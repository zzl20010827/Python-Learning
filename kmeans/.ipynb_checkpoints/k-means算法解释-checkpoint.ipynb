{
 "cells": [
  {
   "cell_type": "markdown",
   "id": "d2d32a89-d8ce-43f1-b8bf-f609eae17ca2",
   "metadata": {},
   "source": [
    "# k-means算法解释    "
   ]
  },
  {
   "cell_type": "markdown",
   "id": "778801f0-ee01-4d68-af8c-ce2cbfd74d6f",
   "metadata": {},
   "source": [
    "### 一、引用的包和中文绘图设置"
   ]
  },
  {
   "cell_type": "code",
   "execution_count": 1,
   "id": "24baa5a7-f88d-437e-9eeb-c3861f7c201a",
   "metadata": {},
   "outputs": [],
   "source": [
    "import numpy as np\n",
    "import matplotlib.pyplot as plt\n",
    "import matplotlib as mpl\n",
    "import time\n",
    "\n",
    "# 设置图像中文字体为黑体\n",
    "mpl.rc(\"font\", family=\"SimHei\")\n",
    "# 解决坐标轴负号不显示\n",
    "mpl.rcParams['axes.unicode_minus'] = False"
   ]
  },
  {
   "cell_type": "markdown",
   "id": "2de4609c-e725-43c9-9f04-c7efd15d77b0",
   "metadata": {},
   "source": [
    "## 二、定义"
   ]
  },
  {
   "cell_type": "markdown",
   "id": "c23fee56-3300-44c2-8a19-6c56719bfab7",
   "metadata": {},
   "source": [
    "### 1. 计算两点欧式距离的平方  \n",
    "为了代码简洁, 定义欧式距离的平方:"
   ]
  },
  {
   "cell_type": "code",
   "execution_count": 2,
   "id": "f276b5b3-fcf3-4d4f-9a3d-79c7edccc5a0",
   "metadata": {},
   "outputs": [],
   "source": [
    "def dist(a, b):\n",
    "    \"\"\" a和b点的距离的平方 \"\"\"\n",
    "    return np.dot(a - b, a - b)"
   ]
  },
  {
   "cell_type": "markdown",
   "id": "7bfb4f02-ede6-4bfb-b18c-a31c541f5612",
   "metadata": {},
   "source": [
    "### 2. 集合`k-means`算法:\n",
    "\n",
    "#### 数据的初始化  \n",
    "1. 令聚类个数$k=5$, 数据样本量$n=100$且都是二维数据,\n",
    "1. 接下来生成样本矩阵, 其中矩阵每一行代表一个数据, 前两列代表数据的横纵坐标, 第三列代表数据的标签, 初始化为-1.\n",
    "\n",
    "#### 迭代  \n",
    "设置距离矩阵, 初始化为0, 然后以500为迭代次数进行迭代, 在每一次迭代中:  \n",
    "1. 先计算每个样本与均值向量的距离, 更新距离矩阵,\n",
    "2. 再进行分类, 将每个点标签更新为距离最近的均值向量的编号,\n",
    "3. 最后更新均值向量, 将取每一个新聚簇中的点的均值, 之后不断迭代, 直到达到次数.\n",
    "\n",
    "#### 损失函数  \n",
    "损失函数定义为每个点到对应聚簇均值向量的距离的平方和.\n",
    "\n",
    "#### 可视化  \n",
    "最后利用`matplotlib`库将结果可视化:"
   ]
  },
  {
   "cell_type": "code",
   "execution_count": 3,
   "id": "b99ece4f-9351-4b11-87b7-82d8a7f794ca",
   "metadata": {},
   "outputs": [],
   "source": [
    "class kmean():\n",
    "    \"\"\" k均值算法 \"\"\"\n",
    "    \n",
    "    def __init__(self, k=5, n=100):\n",
    "        \"\"\" k均值数据生成和初值选取 \"\"\"\n",
    "        # 聚类k个数和数据n个数\n",
    "        self.k = k\n",
    "        self.n = n\n",
    "        # 生成的数据矩阵,最后一列是点的标签\n",
    "        self.data = np.random.randn(self.n, 3) * 10\n",
    "        for i in range(0, self.n):\n",
    "            self.data[i, 2] = -1\n",
    "        # 选取初始向量\n",
    "        mu = np.random.randint(low=0, high=self.n, size=self.k)\n",
    "        self.mean = np.full((self.k, 2), 0.0)\n",
    "        for i in range(0, self.k):\n",
    "            for j in [0, 1]:\n",
    "                self.mean[i, j] = self.data[mu[i], j]\n",
    "\n",
    "    def iteration(self):\n",
    "        \"\"\" 迭代 \"\"\"\n",
    "        # 点到均值向量的距离矩阵\n",
    "        self.distm = np.full((self.n, self.k), 0.0)\n",
    "        # 迭代\n",
    "        iter = 500\n",
    "        for t in range(0, iter):\n",
    "            # 计算距离\n",
    "            for i in range(0, self.n):\n",
    "                for j in range(0, self.k):\n",
    "                    self.distm[i, j] = dist(self.data[i, 0:2], self.mean[j, :])\n",
    "            # 分类\n",
    "            for i in range(0, self.n):\n",
    "                self.data[i, 2] = np.argmin(self.distm[i, :])\n",
    "            # 更新均值向量\n",
    "            for i in range(0, self.k):\n",
    "                smean = (0.0, 0.0)\n",
    "                num = 0\n",
    "                for j in range(0, self.n):\n",
    "                    if self.data[j, 2] == i:\n",
    "                        smean = smean + self.data[j, 0:2]\n",
    "                        num = num + 1\n",
    "                if num != 0:\n",
    "                    self.mean[i, :] = [i / num for i in smean]\n",
    "\n",
    "    def Loss(self):\n",
    "        \"\"\" 损失函数值 \"\"\"\n",
    "        loss = 0\n",
    "        for i in range(0, self.k):\n",
    "            for j in range(0, self.n):\n",
    "                if self.data[j, 2] == i:\n",
    "                    loss = loss + dist(self.data[j, 0:2], self.mean[i, :])\n",
    "        print(\"原损失函数值: \", loss)\n",
    "\n",
    "    def kmeanplt(self):\n",
    "        \"\"\" 数据可视化 \"\"\"\n",
    "        colors = ['red', 'green', 'blue', 'purple', 'yellow']\n",
    "        for i in range(0, self.k):\n",
    "            x = []\n",
    "            y = []\n",
    "            for j in range(0, self.n):\n",
    "                if self.data[j, 2] == i:\n",
    "                    x.append(self.data[j, 0])\n",
    "                    y.append(self.data[j, 1])\n",
    "            plt.scatter(x, y, c=colors[i], s=10)\n",
    "            plt.scatter(self.mean[i, 0], self.mean[i, 1], c=colors[i], s=100)\n",
    "        plt.title(\"原k均值分类结果\")\n",
    "        plt.savefig(\"C:/Users/Zhang/Desktop/原k均值结果.pdf\")\n",
    "        plt.show()"
   ]
  },
  {
   "cell_type": "markdown",
   "id": "d29ebded-7a29-4404-9357-1a485d9dd6c6",
   "metadata": {},
   "source": [
    "## 三、程序实验  \n",
    "在调用程序同时, 计算运行时间并打印:"
   ]
  },
  {
   "cell_type": "code",
   "execution_count": 4,
   "id": "d0cc0d0d-0b3f-4f47-836f-34540a06275b",
   "metadata": {},
   "outputs": [
    {
     "name": "stdout",
     "output_type": "stream",
     "text": [
      "原损失函数值:  4432.602734773326\n",
      "运行时间: 0.8458878993988037 s\n"
     ]
    },
    {
     "data": {
      "image/png": "[encoded data removed]",
      "text/plain": [
       "<Figure size 640x480 with 1 Axes>"
      ]
     },
     "metadata": {},
     "output_type": "display_data"
    }
   ],
   "source": [
    "# 开始计算时间\n",
    "start = time.time()\n",
    "test = kmean()\n",
    "test.iteration()\n",
    "# 结束计算时间\n",
    "end = time.time()\n",
    "test.Loss()\n",
    "print('运行时间: ' + str(end - start) + ' s')\n",
    "test.kmeanplt()"
   ]
  },
  {
   "cell_type": "markdown",
   "id": "fa948f1b-c844-4bc0-8da2-19a5d9eb3b1e",
   "metadata": {},
   "source": [
    "# k-means改进算法解释"
   ]
  },
  {
   "cell_type": "code",
   "execution_count": null,
   "id": "ce78b4be-3a16-486d-a00d-78f5e22288ae",
   "metadata": {},
   "outputs": [],
   "source": []
  }
 ],
 "metadata": {
  "kernelspec": {
   "display_name": "Python 3 (ipykernel)",
   "language": "python",
   "name": "python3"
  },
  "language_info": {
   "codemirror_mode": {
    "name": "ipython",
    "version": 3
   },
   "file_extension": ".py",
   "mimetype": "text/x-python",
   "name": "python",
   "nbconvert_exporter": "python",
   "pygments_lexer": "ipython3",
   "version": "3.10.10"
  }
 },
 "nbformat": 4,
 "nbformat_minor": 5
}
