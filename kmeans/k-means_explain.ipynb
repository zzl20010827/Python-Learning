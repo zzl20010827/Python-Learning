{
 "cells": [
  {
   "cell_type": "markdown",
   "id": "d2d32a89-d8ce-43f1-b8bf-f609eae17ca2",
   "metadata": {},
   "source": [
    "# k-means算法解释    "
   ]
  },
  {
   "cell_type": "markdown",
   "id": "778801f0-ee01-4d68-af8c-ce2cbfd74d6f",
   "metadata": {},
   "source": [
    "### 一、引用的包和中文绘图设置"
   ]
  },
  {
   "cell_type": "code",
   "execution_count": 1,
   "id": "24baa5a7-f88d-437e-9eeb-c3861f7c201a",
   "metadata": {},
   "outputs": [],
   "source": [
    "import numpy as np\n",
    "import matplotlib.pyplot as plt\n",
    "import matplotlib as mpl\n",
    "import time\n",
    "\n",
    "# 设置图像中文字体为黑体\n",
    "mpl.rc(\"font\", family=\"SimHei\")\n",
    "# 解决坐标轴负号不显示\n",
    "mpl.rcParams['axes.unicode_minus'] = False"
   ]
  },
  {
   "cell_type": "markdown",
   "id": "2de4609c-e725-43c9-9f04-c7efd15d77b0",
   "metadata": {},
   "source": [
    "## 二、定义"
   ]
  },
  {
   "cell_type": "markdown",
   "id": "c23fee56-3300-44c2-8a19-6c56719bfab7",
   "metadata": {},
   "source": [
    "### 1. 计算两点欧式距离的平方  \n",
    "为了代码简洁, 定义欧式距离的平方:"
   ]
  },
  {
   "cell_type": "code",
   "execution_count": 2,
   "id": "f276b5b3-fcf3-4d4f-9a3d-79c7edccc5a0",
   "metadata": {},
   "outputs": [],
   "source": [
    "def dist(a, b):\n",
    "    \"\"\" a和b点的距离的平方 \"\"\"\n",
    "    return np.dot(a - b, a - b)"
   ]
  },
  {
   "cell_type": "markdown",
   "id": "7bfb4f02-ede6-4bfb-b18c-a31c541f5612",
   "metadata": {},
   "source": [
    "### 2. 集合`k-means`算法:\n",
    "\n",
    "#### 数据的初始化  \n",
    "1. 令聚类个数$k=5$, 数据样本量$n=100$且都是二维数据,\n",
    "1. 接下来生成样本矩阵, 其中矩阵每一行代表一个数据, 前两列代表数据的横纵坐标, 第三列代表数据的标签, 初始化为-1.\n",
    "\n",
    "#### 迭代  \n",
    "设置距离矩阵, 初始化为0, 然后以500为迭代次数进行迭代, 在每一次迭代中:  \n",
    "1. 先计算每个样本与均值向量的距离, 更新距离矩阵,\n",
    "2. 再进行分类, 将每个点标签更新为距离最近的均值向量的编号,\n",
    "3. 最后更新均值向量, 将取每一个新聚簇中的点的均值, 之后不断迭代, 直到达到次数.\n",
    "\n",
    "#### 损失函数  \n",
    "损失函数定义为每个点到对应聚簇均值向量的距离的平方和.\n",
    "\n",
    "#### 可视化  \n",
    "最后利用`matplotlib`库将结果可视化:"
   ]
  },
  {
   "cell_type": "code",
   "execution_count": 3,
   "id": "b99ece4f-9351-4b11-87b7-82d8a7f794ca",
   "metadata": {},
   "outputs": [],
   "source": [
    "class kmean():\n",
    "    \"\"\" k均值算法 \"\"\"\n",
    "    \n",
    "    def __init__(self, k=5, n=100):\n",
    "        \"\"\" k均值数据生成和初值选取 \"\"\"\n",
    "        # 聚类k个数和数据n个数\n",
    "        self.k = k\n",
    "        self.n = n\n",
    "        # 生成的数据矩阵,最后一列是点的标签\n",
    "        self.data = np.random.randn(self.n, 3) * 10\n",
    "        for i in range(0, self.n):\n",
    "            self.data[i, 2] = -1\n",
    "        # 选取初始向量\n",
    "        mu = np.random.randint(low=0, high=self.n, size=self.k)\n",
    "        self.mean = np.full((self.k, 2), 0.0)\n",
    "        for i in range(0, self.k):\n",
    "            for j in [0, 1]:\n",
    "                self.mean[i, j] = self.data[mu[i], j]\n",
    "\n",
    "    def iteration(self):\n",
    "        \"\"\" 迭代 \"\"\"\n",
    "        # 点到均值向量的距离矩阵\n",
    "        self.distm = np.full((self.n, self.k), 0.0)\n",
    "        # 迭代\n",
    "        iter = 500\n",
    "        for t in range(0, iter):\n",
    "            # 计算距离\n",
    "            for i in range(0, self.n):\n",
    "                for j in range(0, self.k):\n",
    "                    self.distm[i, j] = dist(self.data[i, 0:2], self.mean[j, :])\n",
    "            # 分类\n",
    "            for i in range(0, self.n):\n",
    "                self.data[i, 2] = np.argmin(self.distm[i, :])\n",
    "            # 更新均值向量\n",
    "            for i in range(0, self.k):\n",
    "                smean = (0.0, 0.0)\n",
    "                num = 0\n",
    "                for j in range(0, self.n):\n",
    "                    if self.data[j, 2] == i:\n",
    "                        smean = smean + self.data[j, 0:2]\n",
    "                        num = num + 1\n",
    "                if num != 0:\n",
    "                    self.mean[i, :] = [i / num for i in smean]\n",
    "\n",
    "    def Loss(self):\n",
    "        \"\"\" 损失函数值 \"\"\"\n",
    "        loss = 0\n",
    "        for i in range(0, self.k):\n",
    "            for j in range(0, self.n):\n",
    "                if self.data[j, 2] == i:\n",
    "                    loss = loss + dist(self.data[j, 0:2], self.mean[i, :])\n",
    "        print(\"原损失函数值: \", loss)\n",
    "\n",
    "    def kmeanplt(self):\n",
    "        \"\"\" 数据可视化 \"\"\"\n",
    "        colors = ['red', 'green', 'blue', 'purple', 'yellow']\n",
    "        for i in range(0, self.k):\n",
    "            x = []\n",
    "            y = []\n",
    "            for j in range(0, self.n):\n",
    "                if self.data[j, 2] == i:\n",
    "                    x.append(self.data[j, 0])\n",
    "                    y.append(self.data[j, 1])\n",
    "            plt.scatter(x, y, c=colors[i], s=10)\n",
    "            plt.scatter(self.mean[i, 0], self.mean[i, 1], c=colors[i], s=100)\n",
    "        plt.title(\"原k均值分类结果\")\n",
    "        plt.savefig(\"C:/Users/Zhang/Desktop/原k均值结果.pdf\")\n",
    "        plt.show()"
   ]
  },
  {
   "cell_type": "markdown",
   "id": "d29ebded-7a29-4404-9357-1a485d9dd6c6",
   "metadata": {},
   "source": [
    "## 三、程序实验  \n",
    "在调用程序同时, 计算运行时间并打印:"
   ]
  },
  {
   "cell_type": "code",
   "execution_count": 4,
   "id": "d0cc0d0d-0b3f-4f47-836f-34540a06275b",
   "metadata": {},
   "outputs": [
    {
     "name": "stdout",
     "output_type": "stream",
     "text": [
      "原损失函数值:  6010.06484295899\n",
      "运行时间: 0.8802409172058105 s\n"
     ]
    },
    {
     "data": {
      "image/png": "[encoded data removed]",
      "text/plain": [
       "<Figure size 640x480 with 1 Axes>"
      ]
     },
     "metadata": {},
     "output_type": "display_data"
    }
   ],
   "source": [
    "# 开始计算时间\n",
    "start = time.time()\n",
    "test = kmean()\n",
    "test.iteration()\n",
    "# 结束计算时间\n",
    "end = time.time()\n",
    "test.Loss()\n",
    "print('运行时间: ' + str(end - start) + ' s')\n",
    "test.kmeanplt()"
   ]
  },
  {
   "cell_type": "markdown",
   "id": "fa948f1b-c844-4bc0-8da2-19a5d9eb3b1e",
   "metadata": {},
   "source": [
    "# k-means改进算法解释  \n",
    "首先引入额外需要的包、类和函数"
   ]
  },
  {
   "cell_type": "code",
   "execution_count": 5,
   "id": "2f304072-05b7-4099-bb68-7c18265a0276",
   "metadata": {},
   "outputs": [],
   "source": [
    "import random as rand\n",
    "import math\n",
    "import kmeans\n",
    "from kmeans import dist"
   ]
  },
  {
   "cell_type": "markdown",
   "id": "7a097a92-47c2-43cd-adcd-246106cfb1a4",
   "metadata": {},
   "source": [
    "改进算法基于模拟退火, 在算法开始进行`k-means`迭代, 得到一个初始解, 然后温度从高到低等比下降, 在每一个温度下进行迭代, 在每一次迭代时, 随机选取点, 将点的标签随机修改为其他的聚簇, 然后计算损失函数,  损失函数为均方误差函数. "
   ]
  },
  {
   "cell_type": "code",
   "execution_count": 6,
   "id": "ce78b4be-3a16-486d-a00d-78f5e22288ae",
   "metadata": {},
   "outputs": [],
   "source": [
    "def sqdLoss(data, mean, k=5, n=100):\n",
    "    \"\"\" 均方损失函数值 \"\"\"\n",
    "    loss = 0\n",
    "    for i in range(0, k):\n",
    "        for j in range(0, n):\n",
    "            if data[j, 2] == i:\n",
    "                loss = loss + dist(data[j, 0:2], mean[i, :])\n",
    "    return loss"
   ]
  },
  {
   "cell_type": "markdown",
   "id": "2acd2def-5810-4a7f-b50a-dba75a599eb6",
   "metadata": {},
   "source": [
    "当损失函数值优于(即小于)原损失函数值, 那么接受新解为当前解, 否则, 按照Metropolis准则接受, Metrololis准则为"
   ]
  },
  {
   "cell_type": "code",
   "execution_count": 7,
   "id": "3d313327-ac07-4ee3-b3aa-f0366373ec35",
   "metadata": {},
   "outputs": [],
   "source": [
    "def Metropolis(former, latter, t):\n",
    "    \"\"\" 按照Metropolis准则输出1 \"\"\"\n",
    "    x = rand.uniform(0, 1)\n",
    "    cumulative_probability = 0.0\n",
    "    prob = math.exp(-(latter - former) / t)\n",
    "    for item, item_probability in zip([1, 0], [prob, 1 - prob]):\n",
    "        cumulative_probability += item_probability\n",
    "        if x < cumulative_probability:\n",
    "            break\n",
    "    return item"
   ]
  },
  {
   "cell_type": "markdown",
   "id": "92e000ee-4a7f-4795-a9d3-86513319da1b",
   "metadata": {},
   "source": [
    "当准则接受较差的新解时, 进行次数较少的k-means迭代. 最后不断迭代, 直到温度达到终止温度. 将最后的结果与初始解比较, 若优于, 则选择新解, 否则不选择."
   ]
  },
  {
   "cell_type": "code",
   "execution_count": 10,
   "id": "6b2f36cb-1cc5-4a37-b72c-0b22130094d3",
   "metadata": {},
   "outputs": [],
   "source": [
    "class impkmeans():\n",
    "    \"\"\" 模拟退火改进k均值算法 \"\"\"\n",
    "\n",
    "    def __init__(self):\n",
    "        \"\"\" 生成初始解 \"\"\"\n",
    "        # 进行一次k均值迭代生成初始解\n",
    "        former = kmeans.kmean()  # type: ignore\n",
    "        former.iteration()\n",
    "        former.Loss()\n",
    "        former.kmeanplt()\n",
    "        self.data = former.data\n",
    "        self.k = former.k\n",
    "        self.n = former.n\n",
    "        self.mean = former.mean\n",
    "        self.distm = former.distm\n",
    "\n",
    "    def iteration(self):\n",
    "        \"\"\" 迭代 \"\"\"\n",
    "        # 记录初始解\n",
    "        initdata = self.data\n",
    "        initmean = self.mean\n",
    "        initdistm = self.distm\n",
    "        initloss = sqdLoss(initdata, initmean)\n",
    "        # 初始温度、退火因子和终止温度\n",
    "        T = 100\n",
    "        Ttermi = 0.01\n",
    "        x = 0.95\n",
    "        # 扰动点的数量\n",
    "        change = 50\n",
    "        # 迭代次数\n",
    "        iteration = 10\n",
    "        while T >= Ttermi:\n",
    "            for iter in range(0, iteration):\n",
    "                # 随机扰动后的样本和均值向量\n",
    "                testdata = self.data\n",
    "                testmean = self.mean\n",
    "                testdistm = self.distm\n",
    "                # 随机选取扰动点\n",
    "                randot = np.random.randint(low=0, high=self.n, size=change)\n",
    "                # 将扰动点随机分配给其他类\n",
    "                for i in randot:\n",
    "                    while True:\n",
    "                        choice = rand.choice(np.linspace(\n",
    "                            0, self.k - 1, self.k))\n",
    "                        if choice != self.data[i, 2]:\n",
    "                            testdata[i, 2] = choice\n",
    "                            break\n",
    "                # 更新均值向量\n",
    "                for i in range(0, self.k):\n",
    "                    smean = (0.0, 0.0)\n",
    "                    num = 0\n",
    "                    for j in range(0, self.n):\n",
    "                        if testdata[j, 2] == i:\n",
    "                            smean = smean + testdata[j, 0:2]\n",
    "                            num = num + 1\n",
    "                    if num != 0:\n",
    "                        testmean[i, :] = [i / num for i in smean]\n",
    "                # 重新计算距离\n",
    "                for i in range(0, self.n):\n",
    "                    for j in range(0, self.k):\n",
    "                        testdistm[i, j] = dist(testdata[i, 0:2],\n",
    "                                               testmean[j, :])\n",
    "                # 计算损失函数\n",
    "                loss = sqdLoss(self.data, self.mean)\n",
    "                testloss = sqdLoss(testdata, testmean)\n",
    "                # 随机扰动的结果优于现结果\n",
    "                if testloss < loss:\n",
    "                    self.data = testdata\n",
    "                    self.mean = testmean\n",
    "                    self.distm = testdistm\n",
    "                # 随机扰动结果不优于现结果\n",
    "                elif Metropolis(loss, testloss, T) == 1:\n",
    "                    # 按Metropolis准则接受现结果\n",
    "                    self.data = testdata\n",
    "                    self.mean = testmean\n",
    "                    self.distm = testdistm\n",
    "                    # 重新k均值迭代\n",
    "                    iiter = 100\n",
    "                    for t in range(0, iiter):\n",
    "                        # 计算距离\n",
    "                        for i in range(0, self.n):\n",
    "                            for j in range(0, self.k):\n",
    "                                self.distm[i,\n",
    "                                           j] = dist(self.data[i, 0:2],\n",
    "                                                     self.mean[j, :])\n",
    "                        # 分类\n",
    "                        for i in range(0, self.n):\n",
    "                            self.data[i, 2] = np.argmin(self.distm[i, :])\n",
    "                        # 更新均值向量\n",
    "                        for i in range(0, self.k):\n",
    "                            smean = (0.0, 0.0)\n",
    "                            num = 0\n",
    "                            for j in range(0, self.n):\n",
    "                                if self.data[j, 2] == i:\n",
    "                                    smean = smean + self.data[j, 0:2]\n",
    "                                    num = num + 1\n",
    "                            if num != 0:\n",
    "                                self.mean[i, :] = [i / num for i in smean]\n",
    "            T = T * x\n",
    "        # 迭代完成后, 若优于初始解则采用, 否则不采用\n",
    "        loss = sqdLoss(self.data, self.mean)\n",
    "        if initloss < loss:\n",
    "            self.data = initdata\n",
    "            self.mean = initmean\n",
    "            self.distm = initdistm\n",
    "\n",
    "    def Loss(self):\n",
    "        \"\"\" 损失函数值 \"\"\"\n",
    "        print(\"改进损失函数值: \", sqdLoss(self.data, self.mean))\n",
    "\n",
    "    def impkmeanplt(self):\n",
    "        \"\"\" 数据可视化 \"\"\"\n",
    "        colors = ['red', 'green', 'blue', 'purple', 'yellow']\n",
    "        for i in range(0, self.k):\n",
    "            x = []\n",
    "            y = []\n",
    "            for j in range(0, self.n):\n",
    "                if self.data[j, 2] == i:\n",
    "                    x.append(self.data[j, 0])\n",
    "                    y.append(self.data[j, 1])\n",
    "            plt.scatter(x, y, c=colors[i], s=10)\n",
    "            plt.scatter(self.mean[i, 0], self.mean[i, 1], c=colors[i], s=100)\n",
    "        plt.title(\"改进k均值分类结果\")\n",
    "        plt.savefig(\"C:/Users/Zhang/Desktop/改进k均值结果.pdf\")\n",
    "        plt.show()\n"
   ]
  },
  {
   "cell_type": "markdown",
   "id": "adcd74b8-fd22-4e76-8342-f1954d8344f7",
   "metadata": {},
   "source": [
    "选取一个实例进行展示"
   ]
  },
  {
   "cell_type": "code",
   "execution_count": 11,
   "id": "25ead81b-e359-4094-9d67-f15ed7739941",
   "metadata": {},
   "outputs": [
    {
     "name": "stdout",
     "output_type": "stream",
     "text": [
      "原损失函数值:  5785.35671664739\n"
     ]
    },
    {
     "data": {
      "image/png": "[encoded data removed]",
      "text/plain": [
       "<Figure size 640x480 with 1 Axes>"
      ]
     },
     "metadata": {},
     "output_type": "display_data"
    },
    {
     "name": "stdout",
     "output_type": "stream",
     "text": [
      "改进损失函数值:  5564.270314614856\n",
      "运行时间: 325.42120814323425 s\n"
     ]
    },
    {
     "data": {
      "image/png": "[encoded data removed]",
      "text/plain": [
       "<Figure size 640x480 with 1 Axes>"
      ]
     },
     "metadata": {},
     "output_type": "display_data"
    }
   ],
   "source": [
    "# 开始计算时间\n",
    "start = time.time()\n",
    "test = impkmeans()\n",
    "test.iteration()\n",
    "# 结束计算时间\n",
    "end = time.time()\n",
    "test.Loss()\n",
    "print('运行时间: ' + str(end - start) + ' s')\n",
    "test.impkmeanplt()"
   ]
  },
  {
   "cell_type": "code",
   "execution_count": null,
   "id": "1e4d2283-53f0-4e16-97fe-c834eec8c138",
   "metadata": {},
   "outputs": [],
   "source": []
  }
 ],
 "metadata": {
  "kernelspec": {
   "display_name": "Python 3 (ipykernel)",
   "language": "python",
   "name": "python3"
  },
  "language_info": {
   "codemirror_mode": {
    "name": "ipython",
    "version": 3
   },
   "file_extension": ".py",
   "mimetype": "text/x-python",
   "name": "python",
   "nbconvert_exporter": "python",
   "pygments_lexer": "ipython3",
   "version": "3.10.10"
  }
 },
 "nbformat": 4,
 "nbformat_minor": 5
}
